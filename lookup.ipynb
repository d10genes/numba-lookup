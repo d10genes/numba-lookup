{
 "cells": [
  {
   "cell_type": "markdown",
   "metadata": {},
   "source": [
    "- limitations\n",
    "    - can't construct with numba"
   ]
  },
  {
   "cell_type": "code",
   "execution_count": null,
   "metadata": {
    "collapsed": true
   },
   "outputs": [],
   "source": [
    "import matplotlib.pyplot as plt\n",
    "%matplotlib inline"
   ]
  },
  {
   "cell_type": "code",
   "execution_count": null,
   "metadata": {
    "collapsed": false
   },
   "outputs": [],
   "source": [
    "from project_imports import *"
   ]
  },
  {
   "cell_type": "code",
   "execution_count": null,
   "metadata": {
    "collapsed": false
   },
   "outputs": [],
   "source": [
    "%%javascript\n",
    "var csc = IPython.keyboard_manager.command_shortcuts\n",
    "csc.add_shortcut('Ctrl-k','ipython.move-selected-cell-up')\n",
    "csc.add_shortcut('Ctrl-j','ipython.move-selected-cell-down')\n",
    "csc.add_shortcut('Shift-m','ipython.merge-selected-cell-with-cell-after')"
   ]
  },
  {
   "cell_type": "markdown",
   "metadata": {},
   "source": [
    "# Imports"
   ]
  },
  {
   "cell_type": "code",
   "execution_count": null,
   "metadata": {
    "collapsed": false
   },
   "outputs": [],
   "source": [
    "import scipy as sp\n",
    "import seaborn as sns\n",
    "from pandas.compat import lmap, lfilter, lrange, lzip\n",
    "import numba_lookup as nl; reload(nl); \n",
    "# from numba_lookup import *\n",
    ";;"
   ]
  },
  {
   "cell_type": "code",
   "execution_count": null,
   "metadata": {
    "collapsed": true
   },
   "outputs": [],
   "source": [
    "import tests.test_lookup as ll; reload(ll); from tests.test_lookup import *"
   ]
  },
  {
   "cell_type": "markdown",
   "metadata": {},
   "source": [
    "# Benchmarks: constant vs linear vs log"
   ]
  },
  {
   "cell_type": "code",
   "execution_count": null,
   "metadata": {
    "collapsed": false
   },
   "outputs": [],
   "source": [
    "import timeit\n",
    "\n",
    "def run_benchmark(f=None, genargs=None, inputs=[], n_repeat=10):\n",
    "    ts = OrderedDict()\n",
    "    for n in inputs:\n",
    "\n",
    "        def setup_arg():\n",
    "            \"\"\"Gotta do weird stuff for `timeit` to see things\n",
    "            correctly in its namespace.\"\"\"\n",
    "            setup_arg.arg = genargs(n)\n",
    "            \n",
    "        test_func = lambda: f(*setup_arg.arg)\n",
    "        ts[n] = timeit.timeit(test_func, number=n_repeat, setup=setup_arg) / n_repeat\n",
    "        \n",
    "#         test_func = lambda: f(*genargs(n))\n",
    "#         ts[n] = timeit.timeit(test_func, number=n_repeat) / n_repeat\n",
    "    s = Series(ts, name='Time')\n",
    "    s.index.name = 'N'\n",
    "    return s\n",
    "\n",
    "def s2df(s, **kw):\n",
    "    \"Series to DataFrame\"\n",
    "    df = s.reset_index(drop=0)\n",
    "    for k, v in kw.items():\n",
    "        df[k] = v\n",
    "    return df"
   ]
  },
  {
   "cell_type": "markdown",
   "metadata": {},
   "source": [
    "## Constant time query"
   ]
  },
  {
   "cell_type": "markdown",
   "metadata": {
    "collapsed": true
   },
   "source": [
    "def mk_rnd_dct_arr1d(dictsize, nkeys=1000):\n",
    "    \"Generate random int dict and random subset of keys\"\n",
    "    rx = nr.randint(0, int(1e9), size=(dictsize, 2))\n",
    "    return dict(rx), nr.choice(rx[:, 0], size=nkeys)\n",
    "\n",
    "def dct_benchmark1d(dct, ks):\n",
    "    \"Sum all of the values in dict for given keys\"\n",
    "    return sum(dct[k] for k in ks)"
   ]
  },
  {
   "cell_type": "code",
   "execution_count": null,
   "metadata": {
    "collapsed": true
   },
   "outputs": [],
   "source": [
    "def mk_rnd_dct_arr2d(dictsize, nkeys=1000):\n",
    "    \"Generate random int dict and random subset of keys\"\n",
    "    rx = nr.randint(0, int(1e9), size=(dictsize, 3))\n",
    "    d = {(k1, k2): v for k1, k2, v in rx}\n",
    "    ks = [(rx[i, 0], rx[i, 1]) for i in nr.choice(np.arange(dictsize), size=nkeys)]\n",
    "    return d, ks\n",
    "\n",
    "def dct_benchmark(dct, ks):\n",
    "    \"Sum all of the values in dict for given keys\"\n",
    "    return sum(dct.get(k) for k in ks)"
   ]
  },
  {
   "cell_type": "code",
   "execution_count": null,
   "metadata": {
    "collapsed": false
   },
   "outputs": [],
   "source": [
    "ts_const = run_benchmark(f=dct_benchmark, genargs=mk_rnd_dct_arr2d, inputs=[1, 10, 100, 1000, 10000, 100000]) \n",
    "ts_const"
   ]
  },
  {
   "cell_type": "markdown",
   "metadata": {},
   "source": [
    "## Linear lookup"
   ]
  },
  {
   "cell_type": "markdown",
   "metadata": {
    "collapsed": true
   },
   "source": [
    "def dct2linear_lookup(dct):\n",
    "    return np.array(list(dct.items()))\n",
    "\n",
    "def mk_rnd_linear_dct(n, nkeys=1000):\n",
    "    d, a = mk_rnd_dct_arr(n, nkeys=nkeys)\n",
    "    return dct2linear_lookup(d), a\n",
    "\n",
    "def linear_lookup_get(arr, kquery):\n",
    "    for k, v in arr:\n",
    "        if k == kquery:\n",
    "            return v\n",
    "    raise KeyError(kquery)\n",
    "    \n",
    "def linear_benchmark(dct, ks):\n",
    "    return sum(linear_lookup_get(dct, k) for k in ks)"
   ]
  },
  {
   "cell_type": "code",
   "execution_count": null,
   "metadata": {
    "collapsed": false
   },
   "outputs": [],
   "source": [
    "DataFrame([[3, 4, 1], [2, 3, 4]], columns=['Key 1', 'Key 2', 'Value'])"
   ]
  },
  {
   "cell_type": "code",
   "execution_count": null,
   "metadata": {
    "collapsed": true
   },
   "outputs": [],
   "source": [
    "class DWrapper:\n",
    "    def __init__(self, dct, getter=None):\n",
    "        self.dct = dct\n",
    "        self.getter = getter\n",
    "        \n",
    "    def get(self, k):\n",
    "        return self.getter(self.dct, k)"
   ]
  },
  {
   "cell_type": "code",
   "execution_count": null,
   "metadata": {
    "collapsed": false
   },
   "outputs": [],
   "source": [
    "def dct2linear_lookup2d(dct: dict, getter=None):\n",
    "    \"Convert dict to linear array lookup\"\n",
    "    lookup = np.array([(k1, k2, v) for (k1, k2), v in dct.items()])\n",
    "    return DWrapper(lookup, getter=getter)\n",
    "\n",
    "def mk_rnd_linear_dct(n, nkeys=1000, getter=None):\n",
    "    d, a = mk_rnd_dct_arr2d(n, nkeys=nkeys)\n",
    "    return dct2linear_lookup2d(d, getter=getter), a\n",
    "\n",
    "def linear_lookup_get2d(arr, kquery):\n",
    "    for k1, k2, v in arr:\n",
    "        if (k1, k2) == kquery:\n",
    "            return v\n",
    "    raise KeyError(kquery)\n",
    "    \n",
    "# def linear_benchmark(dct, ks):\n",
    "#     return sum(linear_lookup_get2d(dct, k) for k in ks)"
   ]
  },
  {
   "cell_type": "code",
   "execution_count": null,
   "metadata": {
    "collapsed": false
   },
   "outputs": [],
   "source": [
    "# Check equiv\n",
    "d, a = mk_rnd_dct_arr2d(100, 1000)\n",
    "dlin = dct2linear_lookup2d(d, getter=linear_lookup_get2d)\n",
    "\n",
    "# assert dct_benchmark(d, a) == linear_benchmark(dlin, a)\n",
    "assert dct_benchmark(d, a) == dct_benchmark(dlin, a)"
   ]
  },
  {
   "cell_type": "code",
   "execution_count": null,
   "metadata": {
    "collapsed": false
   },
   "outputs": [],
   "source": [
    "ts_lin = run_benchmark(f=dct_benchmark, genargs=partial(mk_rnd_linear_dct, getter=linear_lookup_get2d),\n",
    "                       inputs=[1, 10, 100], n_repeat=10) \n",
    "ts_lin"
   ]
  },
  {
   "cell_type": "markdown",
   "metadata": {},
   "source": [
    "### Numba speedup"
   ]
  },
  {
   "cell_type": "markdown",
   "metadata": {
    "collapsed": true
   },
   "source": [
    "@njit\n",
    "def linear_lookup_get_nb(arr, kquery):\n",
    "    for i in range(len(arr)):\n",
    "        if arr[i, 0] == kquery:\n",
    "            return arr[i, 1]\n",
    "    print(kquery)\n",
    "    raise KeyError\n",
    "\n",
    "@njit\n",
    "def linear_benchmark_nb(dct, ks):\n",
    "    s = 0\n",
    "    for k in ks:\n",
    "        s += linear_lookup_get_nb(dct, k)\n",
    "    return s"
   ]
  },
  {
   "cell_type": "code",
   "execution_count": null,
   "metadata": {
    "collapsed": true
   },
   "outputs": [],
   "source": [
    "from numba import njit"
   ]
  },
  {
   "cell_type": "code",
   "execution_count": null,
   "metadata": {
    "collapsed": false
   },
   "outputs": [],
   "source": [
    "@njit\n",
    "def linear_lookup_get_nb2d(arr, kquery):\n",
    "    for i in range(len(arr)):\n",
    "        if (arr[i, 0], arr[i, 1]) == kquery:\n",
    "            return arr[i, 2]\n",
    "    print(kquery)\n",
    "    raise KeyError"
   ]
  },
  {
   "cell_type": "code",
   "execution_count": null,
   "metadata": {
    "collapsed": false
   },
   "outputs": [],
   "source": [
    "# Check equiv\n",
    "dlin_nb = dct2linear_lookup2d(d, getter=linear_lookup_get_nb2d)\n",
    "\n",
    "assert dct_benchmark(dlin, a) == dct_benchmark(dlin_nb, a)\n",
    "# assert linear_benchmark(dlin, a) == linear_benchmark_nb(dlin, a)"
   ]
  },
  {
   "cell_type": "code",
   "execution_count": null,
   "metadata": {
    "collapsed": false
   },
   "outputs": [],
   "source": [
    "_gen_nb = partial(mk_rnd_linear_dct, getter=linear_lookup_get_nb2d)\n",
    "ts_lin_nb = run_benchmark(f=dct_benchmark, genargs=_gen_nb,\n",
    "                          inputs=10 ** np.arange(6), n_repeat=10)\n",
    "ts_lin_nb"
   ]
  },
  {
   "cell_type": "markdown",
   "metadata": {},
   "source": [
    "ts_lin_nb = run_benchmark(f=dct_benchmark, genargs=mk_rnd_linear_dct, inputs=[1, 10, 100], n_repeat=10) \n",
    "ts_lin_nb"
   ]
  },
  {
   "cell_type": "markdown",
   "metadata": {
    "collapsed": false
   },
   "source": [
    "ts_lin_nb = run_benchmark(f=linear_benchmark_nb, genargs=mk_rnd_linear_dct, inputs=10 ** np.arange(6), n_repeat=10) \n",
    "ts_lin_nb"
   ]
  },
  {
   "cell_type": "code",
   "execution_count": null,
   "metadata": {
    "collapsed": false
   },
   "outputs": [],
   "source": [
    "times = pd.concat([\n",
    "    s2df(ts_const, Complexity='Constant'),\n",
    "    s2df(ts_lin, Complexity='Linear'),\n",
    "    s2df(ts_lin_nb, Complexity='Linear numba'),\n",
    "])"
   ]
  },
  {
   "cell_type": "code",
   "execution_count": null,
   "metadata": {
    "collapsed": false
   },
   "outputs": [],
   "source": [
    "times_scales = pd.concat([\n",
    "    s2df(times.set_index('N'), Scale='Linear'),\n",
    "    s2df(times.set_index('N'), Scale='Log'),\n",
    "])"
   ]
  },
  {
   "cell_type": "code",
   "execution_count": null,
   "metadata": {
    "collapsed": false
   },
   "outputs": [],
   "source": [
    "def plot(x, y, scales, **kw):\n",
    "    scale, *_ = scales\n",
    "#     print(scale)\n",
    "#     print(kw)\n",
    "    p = plt.plot(x, y, '.:')\n",
    "    if scale == 'Log':\n",
    "        plt.xscale('log')\n",
    "    return p\n",
    "\n",
    "g = sns.FacetGrid(times_scales, col='Complexity', row='Scale', sharex=False)\n",
    "g.map(plot, 'N', 'Time', 'Scale');"
   ]
  },
  {
   "cell_type": "markdown",
   "metadata": {
    "collapsed": false
   },
   "source": [
    "def plot(x, y, **kw):\n",
    "    p = plt.plot(x, y, '.:')\n",
    "    plt.xscale('log')\n",
    "    return p\n",
    "\n",
    "g = sns.FacetGrid(times, col='Complexity', sharex=False)\n",
    "g.map(plot, 'N', 'Time');"
   ]
  },
  {
   "cell_type": "markdown",
   "metadata": {
    "collapsed": false
   },
   "source": [
    "def plot_zoom(x, y, **_):\n",
    "#     global x1, y1\n",
    "#     x1, y1 = x, y\n",
    "    bm = x <= 1000\n",
    "    p = plt.plot(x[bm], y[bm], '.:')\n",
    "#     plt.xlim(None, 200)\n",
    "    return p\n",
    "\n",
    "g = sns.FacetGrid(times, col='Complexity', sharex=False)\n",
    "g.map(plot_zoom, 'N', 'Time');"
   ]
  },
  {
   "cell_type": "markdown",
   "metadata": {},
   "source": [
    "## Benchmark Log lookup"
   ]
  },
  {
   "cell_type": "markdown",
   "metadata": {},
   "source": [
    "import scipy as sp\n",
    "from pandas.compat import lmap, lfilter, lrange, lzip\n",
    "import numba_lookup as nl; reload(nl); from numba_lookup import *\n",
    ";;"
   ]
  },
  {
   "cell_type": "markdown",
   "metadata": {
    "collapsed": true
   },
   "source": [
    "@njit\n",
    "def benchmark_nb(dct, ks):\n",
    "    s = 0\n",
    "    for k in ks:\n",
    "        s += dct.get(k)\n",
    "    return s"
   ]
  },
  {
   "cell_type": "code",
   "execution_count": null,
   "metadata": {
    "collapsed": true
   },
   "outputs": [],
   "source": [
    "from numba_lookup import nmap"
   ]
  },
  {
   "cell_type": "code",
   "execution_count": null,
   "metadata": {
    "collapsed": false
   },
   "outputs": [],
   "source": [
    "dlog = nmap(d)\n",
    "\n",
    "# Check equivalence\n",
    "assert dct_benchmark(d, a) == dct_benchmark(dlog, a)\n",
    "# == benchmark_nb(dlog, a)"
   ]
  },
  {
   "cell_type": "code",
   "execution_count": null,
   "metadata": {
    "collapsed": true
   },
   "outputs": [],
   "source": [
    "def mk_rnd_dct_arr2d_log(dictsize, nkeys=1000, warmup=None):\n",
    "    \"\"\"Generate random dict, select random keys, convert\n",
    "    dict to log lookup, and access the first element\n",
    "    to compile the numba method.\n",
    "    \"\"\"\n",
    "    d, a = mk_rnd_dct_arr2d(dictsize, nkeys=nkeys)\n",
    "    dlog = nmap(d)\n",
    "    dlog.get(dlog.keys()[0])  # warmup by accessing first key\n",
    "    if warmup is not None:\n",
    "        warmup(dlog, a[:2])\n",
    "    return dlog, a\n",
    "\n",
    "# def warmup_gen():\n",
    "#     return mk_rnd_dct_arr2d_log(2, nkeys=1)"
   ]
  },
  {
   "cell_type": "code",
   "execution_count": null,
   "metadata": {
    "collapsed": false
   },
   "outputs": [],
   "source": [
    "ts_log_nb = run_benchmark(f=dct_benchmark, genargs=mk_rnd_dct_arr2d_log,\n",
    "                          inputs=10 ** np.arange(1, 7), n_repeat=10)\n",
    "ts_log_nb"
   ]
  },
  {
   "cell_type": "markdown",
   "metadata": {
    "collapsed": false
   },
   "source": [
    "warmup = partial(mk_rnd_dct_arr2d_log, warmup=benchmark_nb)\n",
    "ts_log_nb_loop = run_benchmark(f=benchmark_nb, genargs=mk_rnd_dct_arr2d_log,\n",
    "                          inputs=10 ** np.arange(1, 6), n_repeat=10)\n",
    "ts_log_nb_loop"
   ]
  },
  {
   "cell_type": "code",
   "execution_count": null,
   "metadata": {
    "collapsed": true
   },
   "outputs": [],
   "source": [
    "times = pd.concat([\n",
    "    s2df(ts_const, Complexity='Constant'),\n",
    "    s2df(ts_lin, Complexity='Linear'),\n",
    "    s2df(ts_lin_nb, Complexity='Linear numba'),\n",
    "    s2df(ts_log_nb, Complexity='Log'),\n",
    "#     s2df(ts_log_nb_loop, Complexity='Log_loop'),\n",
    "])\n",
    "\n",
    "\n",
    "times_scales = pd.concat([\n",
    "    s2df(times.set_index('N'), Scale='Linear'),\n",
    "    s2df(times.set_index('N'), Scale='Log'),\n",
    "])"
   ]
  },
  {
   "cell_type": "code",
   "execution_count": null,
   "metadata": {
    "collapsed": false
   },
   "outputs": [],
   "source": [
    "def plot(x, y, scales, **kw):\n",
    "    scale, *_ = scales\n",
    "    p = plt.plot(x, y, '.:')\n",
    "    if scale == 'Log':\n",
    "        plt.xscale('log')\n",
    "    else:\n",
    "        plt.xticks(rotation=75)\n",
    "    return p\n",
    "\n",
    "ts_ = times_scales.query(\"Complexity == ['Constant', 'Log', 'Log_loop']\")\n",
    "g = sns.FacetGrid(ts_, col='Complexity', row='Scale', sharex=False)\n",
    "g.map(plot, 'N', 'Time', 'Scale');"
   ]
  },
  {
   "cell_type": "markdown",
   "metadata": {},
   "source": [
    "## Use case"
   ]
  },
  {
   "cell_type": "code",
   "execution_count": null,
   "metadata": {
    "collapsed": true
   },
   "outputs": [],
   "source": [
    "@njit\n",
    "def benchmark_nb(dct, ks):\n",
    "    s = 0\n",
    "    for k in ks:\n",
    "        s += dct.get(k)\n",
    "    return s"
   ]
  },
  {
   "cell_type": "code",
   "execution_count": null,
   "metadata": {
    "collapsed": true
   },
   "outputs": [],
   "source": [
    "# Create dicts and check equivalence\n",
    "nr.seed(0)\n",
    "_dict, _ks = mk_rnd_dct_arr2d(10000)\n",
    "assert type(_dict) == dict\n",
    "\n",
    "\n",
    "_log_dict = nmap(_dict)\n",
    "\n",
    "for k in _ks:\n",
    "    assert _dict.get(k) == _log_dict.get(k)"
   ]
  },
  {
   "cell_type": "code",
   "execution_count": null,
   "metadata": {
    "collapsed": true
   },
   "outputs": [],
   "source": [
    "def gen_large_key_sample(dct, size=1000000):\n",
    "    ks4_ix = nr.choice(np.arange(len(dct)), size=size)\n",
    "    _ks_all = sorted(dct)\n",
    "    return [_ks_all[i] for i in ks4_ix]\n",
    "\n",
    "big_ks = gen_large_key_sample(_dict, size=1000000)"
   ]
  },
  {
   "cell_type": "code",
   "execution_count": null,
   "metadata": {
    "collapsed": false
   },
   "outputs": [],
   "source": [
    "f = lambda x: (x ** .3) // 4\n",
    "fnb = njit(f)\n",
    "\n",
    "def look_sum_mod(dct, ks):\n",
    "    return sum([f(dct.get(k))\n",
    "                for i in range(1, 25)\n",
    "                for k in ks\n",
    "                if (k[1] % i) % 2\n",
    "               ])\n",
    "\n",
    "def look_sum_loop_mod(dct, ks):\n",
    "    s = 0\n",
    "    for i in range(1, 25):\n",
    "        for k in ks:\n",
    "            if (k[1] % i) % 2:\n",
    "                s += fnb(dct.get(k))\n",
    "    return s\n",
    "\n",
    "look_sum_loop_mod_nb = njit(look_sum_loop_mod)\n",
    "look_sum_loop_mod_nb(_log_dict, _ks[:2])"
   ]
  },
  {
   "cell_type": "code",
   "execution_count": null,
   "metadata": {
    "collapsed": false
   },
   "outputs": [],
   "source": [
    "%time look_sum_loop_mod_nb(_log_dict, big_ks)"
   ]
  },
  {
   "cell_type": "code",
   "execution_count": null,
   "metadata": {
    "collapsed": false
   },
   "outputs": [],
   "source": [
    "%time look_sum_mod(_dict, big_ks)"
   ]
  },
  {
   "cell_type": "code",
   "execution_count": null,
   "metadata": {
    "collapsed": false
   },
   "outputs": [],
   "source": [
    "%time look_sum_loop_mod(_dict, big_ks)"
   ]
  },
  {
   "cell_type": "code",
   "execution_count": null,
   "metadata": {
    "collapsed": true
   },
   "outputs": [],
   "source": [
    "del outer_loop"
   ]
  },
  {
   "cell_type": "code",
   "execution_count": null,
   "metadata": {
    "collapsed": false
   },
   "outputs": [],
   "source": [
    "look_sum_mod(_log_dict, _ks[:2])"
   ]
  },
  {
   "cell_type": "code",
   "execution_count": null,
   "metadata": {
    "collapsed": false
   },
   "outputs": [],
   "source": [
    "def look_sum(dct, ks):\n",
    "#     s = \n",
    "    return sum([dct.get(k) for k in ks])\n",
    "\n",
    "@njit\n",
    "def look_sum_nb(dct, ks):\n",
    "    s = 0\n",
    "    for k in ks:\n",
    "        s += dct.get(k)\n",
    "    return s\n",
    "\n",
    "look_sum_nb(_log_dict, _ks[:2])"
   ]
  },
  {
   "cell_type": "code",
   "execution_count": null,
   "metadata": {
    "collapsed": false
   },
   "outputs": [],
   "source": [
    "%time look_sum(_dict, _ks)"
   ]
  },
  {
   "cell_type": "code",
   "execution_count": null,
   "metadata": {
    "collapsed": false
   },
   "outputs": [],
   "source": [
    "%time look_sum_nb(_log_dict, _ks)"
   ]
  },
  {
   "cell_type": "code",
   "execution_count": null,
   "metadata": {
    "collapsed": false
   },
   "outputs": [],
   "source": [
    "ks4_ix"
   ]
  },
  {
   "cell_type": "code",
   "execution_count": null,
   "metadata": {
    "collapsed": false
   },
   "outputs": [],
   "source": [
    "/len _ks"
   ]
  },
  {
   "cell_type": "code",
   "execution_count": null,
   "metadata": {
    "collapsed": false
   },
   "outputs": [],
   "source": [
    "k"
   ]
  },
  {
   "cell_type": "code",
   "execution_count": null,
   "metadata": {
    "collapsed": true
   },
   "outputs": [],
   "source": [
    "s_ = 0"
   ]
  },
  {
   "cell_type": "code",
   "execution_count": null,
   "metadata": {
    "collapsed": false
   },
   "outputs": [],
   "source": [
    "d"
   ]
  },
  {
   "cell_type": "code",
   "execution_count": null,
   "metadata": {
    "collapsed": false
   },
   "outputs": [],
   "source": [
    "_d"
   ]
  },
  {
   "cell_type": "markdown",
   "metadata": {
    "collapsed": true
   },
   "source": [
    "wa = warmup_gen()\n",
    "\n",
    "dct_benchmark(*wa)\n",
    "\n",
    "dct_benchmark(*warmup_gen())\n",
    "\n",
    "\n",
    "%time benchmark_nb(_d, _ks)\n",
    "\n",
    "%timeit benchmark_nb(_d, _ks)"
   ]
  },
  {
   "cell_type": "markdown",
   "metadata": {},
   "source": [
    "## Sorted array"
   ]
  },
  {
   "cell_type": "markdown",
   "metadata": {},
   "source": [
    "N, M = 12000, 1000\n",
    "m = sp.sparse.random(N, M, density=.05, format='csc', random_state=1)"
   ]
  },
  {
   "cell_type": "code",
   "execution_count": null,
   "metadata": {
    "collapsed": false
   },
   "outputs": [],
   "source": [
    "N, M = 12000, 1000\n",
    "m = mk_m(n=N, m=M, random_state=1)\n",
    "drand = coo_todict(m)\n",
    "ks, vs = nl.tup_dct2arr(drand)"
   ]
  },
  {
   "cell_type": "code",
   "execution_count": null,
   "metadata": {
    "collapsed": false
   },
   "outputs": [],
   "source": [
    "ix_table = get_index(ks)"
   ]
  },
  {
   "cell_type": "markdown",
   "metadata": {},
   "source": [
    "k1, k2 = 0, 228\n",
    "sorted_arr_lookup_ix(ks, vs, ix_table, k1, k2)"
   ]
  },
  {
   "cell_type": "code",
   "execution_count": null,
   "metadata": {
    "collapsed": false
   },
   "outputs": [],
   "source": [
    "nm = nmap(drand)"
   ]
  },
  {
   "cell_type": "code",
   "execution_count": null,
   "metadata": {
    "collapsed": false
   },
   "outputs": [],
   "source": [
    "try:\n",
    "    sum_odds_r(nm, rand_keys)\n",
    "except Exception as e:\n",
    "    print(e)\n",
    "    "
   ]
  },
  {
   "cell_type": "code",
   "execution_count": null,
   "metadata": {
    "collapsed": false
   },
   "outputs": [],
   "source": [
    "sum([nm.get(k1, k2) for k1, k2 in keys(ks) if k2 % 2 == 1])"
   ]
  },
  {
   "cell_type": "code",
   "execution_count": null,
   "metadata": {
    "collapsed": false
   },
   "outputs": [],
   "source": [
    "lmap(type, list(drand.keys())[0])"
   ]
  },
  {
   "cell_type": "code",
   "execution_count": null,
   "metadata": {
    "collapsed": false
   },
   "outputs": [],
   "source": [
    "type(drand[(3149, 598)])"
   ]
  },
  {
   "cell_type": "code",
   "execution_count": null,
   "metadata": {
    "collapsed": false
   },
   "outputs": [],
   "source": [
    "list(it.islice(keys(ks), 5))\n",
    "list(it.islice(values(vs), 5))"
   ]
  },
  {
   "cell_type": "code",
   "execution_count": null,
   "metadata": {
    "collapsed": false
   },
   "outputs": [],
   "source": []
  },
  {
   "cell_type": "code",
   "execution_count": null,
   "metadata": {
    "collapsed": true
   },
   "outputs": [],
   "source": [
    "@njit\n",
    "def sum_odds(nm):\n",
    "    s = 0\n",
    "    for k1, k2 in nm.keys():\n",
    "        if k2 % 2 == 1:\n",
    "            s += nm.get(k1, k2)\n",
    "    return s\n",
    "\n",
    "\n",
    "@njit\n",
    "def sum_odds2(nm):\n",
    "    s = 0\n",
    "    for k1, k2 in nm.keys():\n",
    "        if k2 % 2 == 1:\n",
    "            s += nm.get2(k1, k2)\n",
    "    return s"
   ]
  },
  {
   "cell_type": "code",
   "execution_count": null,
   "metadata": {
    "collapsed": false
   },
   "outputs": [],
   "source": [
    "%time sum([v for (k1, k2), v in drand.items() if k2 % 2 == 1])"
   ]
  },
  {
   "cell_type": "code",
   "execution_count": null,
   "metadata": {
    "collapsed": true
   },
   "outputs": [],
   "source": [
    "nr.seed(0)\n",
    "rand_keys_ = nr.randint(len(nm.ks), size=1000)\n",
    "rand_keys = nm.ks[rand_keys_]"
   ]
  },
  {
   "cell_type": "code",
   "execution_count": null,
   "metadata": {
    "collapsed": false
   },
   "outputs": [],
   "source": [
    "@njit\n",
    "def sum_r(nm, rks):\n",
    "    s = 0\n",
    "    for i in range(len(rks)):\n",
    "        k1, k2 = rks[i]\n",
    "        s += nm.get(k1, k2)\n",
    "    return s\n",
    "\n",
    "@njit\n",
    "def sum_r2(nm, rks):\n",
    "    s = 0\n",
    "    for i in range(len(rks)):\n",
    "        k1, k2 = rks[i]\n",
    "        s += nm.get2(k1, k2)\n",
    "    return s"
   ]
  },
  {
   "cell_type": "code",
   "execution_count": null,
   "metadata": {
    "collapsed": false
   },
   "outputs": [],
   "source": []
  },
  {
   "cell_type": "code",
   "execution_count": null,
   "metadata": {
    "collapsed": true
   },
   "outputs": [],
   "source": [
    "del sum_odds_r, sum_odds_r2"
   ]
  },
  {
   "cell_type": "code",
   "execution_count": null,
   "metadata": {
    "collapsed": false
   },
   "outputs": [],
   "source": [
    "sum([drand[(k1, k2)] for (k1, k2) in rand_keys])"
   ]
  },
  {
   "cell_type": "code",
   "execution_count": null,
   "metadata": {
    "collapsed": false
   },
   "outputs": [],
   "source": [
    "%time sum([drand[(k1, k2)] for (k1, k2) in rand_keys])"
   ]
  },
  {
   "cell_type": "code",
   "execution_count": null,
   "metadata": {
    "collapsed": false
   },
   "outputs": [],
   "source": [
    "sum_r2(nm, rand_keys)"
   ]
  },
  {
   "cell_type": "code",
   "execution_count": null,
   "metadata": {
    "collapsed": false
   },
   "outputs": [],
   "source": [
    "%time sum_r(nm, rand_keys)\n",
    "%time sum_r2(nm, rand_keys)"
   ]
  },
  {
   "cell_type": "code",
   "execution_count": null,
   "metadata": {
    "collapsed": false
   },
   "outputs": [],
   "source": [
    "%timeit sum_r(nm, rand_keys)\n",
    "%timeit sum_r2(nm, rand_keys)\n",
    "# %time sum_odds(nm, rand_keys)"
   ]
  }
 ],
 "metadata": {
  "kernelspec": {
   "display_name": "Python 3",
   "language": "python",
   "name": "python3"
  },
  "language_info": {
   "codemirror_mode": {
    "name": "ipython",
    "version": 3
   },
   "file_extension": ".py",
   "mimetype": "text/x-python",
   "name": "python",
   "nbconvert_exporter": "python",
   "pygments_lexer": "ipython3",
   "version": "3.5.2"
  }
 },
 "nbformat": 4,
 "nbformat_minor": 0
}
