{
 "cells": [
  {
   "cell_type": "code",
   "execution_count": null,
   "metadata": {
    "collapsed": false
   },
   "outputs": [],
   "source": [
    "from project_imports import *\n",
    "# %matplotlib inline"
   ]
  },
  {
   "cell_type": "code",
   "execution_count": null,
   "metadata": {
    "collapsed": false
   },
   "outputs": [],
   "source": [
    "%%javascript\n",
    "var csc = IPython.keyboard_manager.command_shortcuts\n",
    "csc.add_shortcut('Ctrl-k','ipython.move-selected-cell-up')\n",
    "csc.add_shortcut('Ctrl-j','ipython.move-selected-cell-down')\n",
    "csc.add_shortcut('Shift-m','ipython.merge-selected-cell-with-cell-after')"
   ]
  },
  {
   "cell_type": "markdown",
   "metadata": {},
   "source": [
    "# Imports"
   ]
  },
  {
   "cell_type": "code",
   "execution_count": null,
   "metadata": {
    "collapsed": true
   },
   "outputs": [],
   "source": [
    "import scipy as sp\n",
    "from pandas.compat import lmap, lfilter, lrange, lzip\n",
    "import numba_lookup as nl; reload(nl); from numba_lookup import *"
   ]
  },
  {
   "cell_type": "code",
   "execution_count": null,
   "metadata": {
    "collapsed": true
   },
   "outputs": [],
   "source": [
    "import tests.test_lookup as ll; reload(ll); from tests.test_lookup import *"
   ]
  },
  {
   "cell_type": "markdown",
   "metadata": {},
   "source": [
    "### Constant\n",
    "\n",
    "import time\n",
    "timef = time.perf_counter\n",
    "\n",
    "def timer(f):\n",
    "    def f2(*a, **k):\n",
    "        st = timef()\n",
    "        res = f(*a, **k)\n",
    "        t = timef() - st\n",
    "        # print(t)\n",
    "        return t, res\n",
    "    return f2\n",
    "\n"
   ]
  },
  {
   "cell_type": "code",
   "execution_count": null,
   "metadata": {
    "collapsed": false
   },
   "outputs": [],
   "source": [
    "import timeit\n",
    "\n",
    "def run_inputs(f=None, genargs=None, inputs=[], n_repeat=10):\n",
    "    ts = OrderedDict()\n",
    "    for n in inputs:\n",
    "        args = genargs(n)\n",
    "        ts[n] = timeit.timeit(lambda: f(*args), number=n_repeat) / n_repeat\n",
    "    return Series(ts)"
   ]
  },
  {
   "cell_type": "markdown",
   "metadata": {},
   "source": [
    "### Constant time query"
   ]
  },
  {
   "cell_type": "code",
   "execution_count": null,
   "metadata": {
    "collapsed": true
   },
   "outputs": [],
   "source": [
    "def mk_rnd_dct_arr(n, asize=1000):\n",
    "    rx = nr.randint(0, int(1e9), size=(n, 2))\n",
    "    return dict(rx), nr.choice(rx[:, 0], size=asize)\n",
    "\n",
    "def dct_f(dct, ks):\n",
    "    return sum(dct[k] for k in ks)"
   ]
  },
  {
   "cell_type": "code",
   "execution_count": null,
   "metadata": {
    "collapsed": false
   },
   "outputs": [],
   "source": [
    "ts = run_inputs(f=dct_f, genargs=mk_rnd_dct_arr, inputs=[1, 10, 100, 1000, 10000, ]) \n",
    "ts"
   ]
  },
  {
   "cell_type": "markdown",
   "metadata": {},
   "source": [
    "### Linear lookup"
   ]
  },
  {
   "cell_type": "code",
   "execution_count": null,
   "metadata": {
    "collapsed": true
   },
   "outputs": [],
   "source": [
    "def dct2linear_lookup(dct):\n",
    "    return np.array(list(dct.items()))\n",
    "\n",
    "def mk_rnd_linear_dct(n, asize=1000):\n",
    "    d, a = mk_rnd_dct_arr(n, asize=asize)\n",
    "    return dct2linear_lookup(d), a\n",
    "\n",
    "def linear_lookup_get(arr, kquery):\n",
    "    for k, v in arr:\n",
    "        if k == kquery:\n",
    "            return v\n",
    "    raise KeyError(kquery)\n",
    "    \n",
    "def linear_f(dct, ks):\n",
    "    return sum(linear_lookup_get(dct, k) for k in ks)"
   ]
  },
  {
   "cell_type": "code",
   "execution_count": null,
   "metadata": {
    "collapsed": true
   },
   "outputs": [],
   "source": [
    "d, a = mk_rnd_dct_arr(100, 1000)\n",
    "dlin = dct2linear_lookup(d)\n",
    "\n",
    "assert dct_f(d, a) == linear_f(dlin, a)"
   ]
  },
  {
   "cell_type": "code",
   "execution_count": null,
   "metadata": {
    "collapsed": false
   },
   "outputs": [],
   "source": [
    "ts2 = run_inputs(f=linear_f, genargs=mk_rnd_linear_dct, inputs=[1, 10, 100], n_repeat=10) \n",
    "ts2"
   ]
  },
  {
   "cell_type": "code",
   "execution_count": null,
   "metadata": {
    "collapsed": true
   },
   "outputs": [],
   "source": [
    "@njit\n",
    "def linear_lookup_get_nb(arr, kquery):\n",
    "    for i in range(len(arr)):\n",
    "        if arr[i, 0] == kquery:\n",
    "            return arr[i, 1]\n",
    "    print(kquery)\n",
    "    raise KeyError\n",
    "\n",
    "@njit\n",
    "def linear_f_nb(dct, ks):\n",
    "    s = 0\n",
    "    for k in ks:\n",
    "        s += linear_lookup_get_nb(dct, k)\n",
    "    return s"
   ]
  },
  {
   "cell_type": "code",
   "execution_count": null,
   "metadata": {
    "collapsed": true
   },
   "outputs": [],
   "source": [
    "assert linear_f(dlin, a) == linear_f_nb(dlin, a)"
   ]
  },
  {
   "cell_type": "code",
   "execution_count": null,
   "metadata": {
    "collapsed": false
   },
   "outputs": [],
   "source": [
    "ts3 = run_inputs(f=linear_f_nb, genargs=mk_rnd_linear_dct, inputs=10 ** np.arange(6), n_repeat=10) \n",
    "Series(ts3)"
   ]
  },
  {
   "cell_type": "code",
   "execution_count": null,
   "metadata": {
    "collapsed": true
   },
   "outputs": [],
   "source": []
  },
  {
   "cell_type": "code",
   "execution_count": null,
   "metadata": {
    "collapsed": false
   },
   "outputs": [],
   "source": [
    "@njit\n",
    "def linear_lookup_get_nb(arr, kquery):\n",
    "    for k, v in arr:\n",
    "        if k == kquery:\n",
    "            return v\n",
    "    raise KeyError(kquery)\n",
    "\n",
    "    \n",
    "@njit\n",
    "def linear_f_nb(dct, ks):\n",
    "    s = 0\n",
    "    for k in ks:\n",
    "        s += linear_lookup_get_nb(dct, k)\n",
    "    return s"
   ]
  },
  {
   "cell_type": "code",
   "execution_count": null,
   "metadata": {
    "collapsed": false
   },
   "outputs": [],
   "source": []
  },
  {
   "cell_type": "code",
   "execution_count": null,
   "metadata": {
    "collapsed": false
   },
   "outputs": [],
   "source": [
    "\n",
    "\n",
    "try:\n",
    "#     linear_lookup_get_nb(d, 1.)\n",
    "    linear_f_nb(d, a)\n",
    "except Exception as e:\n",
    "    print(e)"
   ]
  },
  {
   "cell_type": "code",
   "execution_count": null,
   "metadata": {
    "collapsed": true
   },
   "outputs": [],
   "source": [
    "assert linear_f(dlin, a) == linear_f_nb(dlin, a)"
   ]
  },
  {
   "cell_type": "code",
   "execution_count": null,
   "metadata": {
    "collapsed": false
   },
   "outputs": [],
   "source": [
    "assert dct_f(d, a) == linear_f_nb(dlin, a)\n",
    "assert linear_f(dlin, a) == linear_f_nb(dlin, a)"
   ]
  },
  {
   "cell_type": "code",
   "execution_count": null,
   "metadata": {
    "collapsed": false
   },
   "outputs": [],
   "source": []
  },
  {
   "cell_type": "code",
   "execution_count": null,
   "metadata": {
    "collapsed": false
   },
   "outputs": [],
   "source": [
    "ts3 = run_inputs(f=linear_f_nb, genargs=mk_rnd_linear_dct, inputs=[1, 10, 100, 1000, 10000], n=1) \n",
    "Series(ts3)"
   ]
  },
  {
   "cell_type": "code",
   "execution_count": null,
   "metadata": {
    "collapsed": false
   },
   "outputs": [],
   "source": [
    "\n",
    "Series(ts2)"
   ]
  },
  {
   "cell_type": "code",
   "execution_count": null,
   "metadata": {
    "collapsed": true
   },
   "outputs": [],
   "source": [
    "ts2 = run_inputs(f=linear_f, genargs=mk_rnd_linear_dct, inputs=[1, 10, 100], n=2) \n",
    "Series(ts2)"
   ]
  },
  {
   "cell_type": "code",
   "execution_count": null,
   "metadata": {
    "collapsed": false
   },
   "outputs": [],
   "source": [
    "Series(ts).reset_index(drop=0).rename(columns={'index': 'Input size', 0: 'Avg time'})"
   ]
  },
  {
   "cell_type": "code",
   "execution_count": null,
   "metadata": {
    "collapsed": false
   },
   "outputs": [],
   "source": [
    "dct_get(d, a)"
   ]
  },
  {
   "cell_type": "code",
   "execution_count": null,
   "metadata": {
    "collapsed": true
   },
   "outputs": [],
   "source": []
  },
  {
   "cell_type": "code",
   "execution_count": null,
   "metadata": {
    "collapsed": false
   },
   "outputs": [],
   "source": [
    "t = timeit.Timer('dct_get(d, a)')\n",
    "t.timeit(number=100)"
   ]
  },
  {
   "cell_type": "markdown",
   "metadata": {},
   "source": [
    "## Sorted array"
   ]
  },
  {
   "cell_type": "markdown",
   "metadata": {},
   "source": [
    "N, M = 12000, 1000\n",
    "m = sp.sparse.random(N, M, density=.05, format='csc', random_state=1)"
   ]
  },
  {
   "cell_type": "code",
   "execution_count": null,
   "metadata": {
    "collapsed": false
   },
   "outputs": [],
   "source": [
    "N, M = 12000, 1000\n",
    "m = mk_m(n=N, m=M, random_state=1)\n",
    "drand = coo_todict(m)\n",
    "ks, vs = nl.tup_dct2arr(drand)"
   ]
  },
  {
   "cell_type": "code",
   "execution_count": null,
   "metadata": {
    "collapsed": false
   },
   "outputs": [],
   "source": [
    "ix_table = get_index(ks)"
   ]
  },
  {
   "cell_type": "markdown",
   "metadata": {},
   "source": [
    "k1, k2 = 0, 228\n",
    "sorted_arr_lookup_ix(ks, vs, ix_table, k1, k2)"
   ]
  },
  {
   "cell_type": "code",
   "execution_count": null,
   "metadata": {
    "collapsed": false
   },
   "outputs": [],
   "source": [
    "nm = nmap(drand)"
   ]
  },
  {
   "cell_type": "code",
   "execution_count": null,
   "metadata": {
    "collapsed": false
   },
   "outputs": [],
   "source": [
    "try:\n",
    "    sum_odds_r(nm, rand_keys)\n",
    "except Exception as e:\n",
    "    print(e)\n",
    "    "
   ]
  },
  {
   "cell_type": "code",
   "execution_count": null,
   "metadata": {
    "collapsed": false
   },
   "outputs": [],
   "source": [
    "sum([nm.get(k1, k2) for k1, k2 in keys(ks) if k2 % 2 == 1])"
   ]
  },
  {
   "cell_type": "code",
   "execution_count": null,
   "metadata": {
    "collapsed": false
   },
   "outputs": [],
   "source": [
    "lmap(type, list(drand.keys())[0])"
   ]
  },
  {
   "cell_type": "code",
   "execution_count": null,
   "metadata": {
    "collapsed": false
   },
   "outputs": [],
   "source": [
    "type(drand[(3149, 598)])"
   ]
  },
  {
   "cell_type": "code",
   "execution_count": null,
   "metadata": {
    "collapsed": false
   },
   "outputs": [],
   "source": [
    "list(it.islice(keys(ks), 5))\n",
    "list(it.islice(values(vs), 5))"
   ]
  },
  {
   "cell_type": "code",
   "execution_count": null,
   "metadata": {
    "collapsed": false
   },
   "outputs": [],
   "source": []
  },
  {
   "cell_type": "code",
   "execution_count": null,
   "metadata": {
    "collapsed": true
   },
   "outputs": [],
   "source": [
    "@njit\n",
    "def sum_odds(nm):\n",
    "    s = 0\n",
    "    for k1, k2 in nm.keys():\n",
    "        if k2 % 2 == 1:\n",
    "            s += nm.get(k1, k2)\n",
    "    return s\n",
    "\n",
    "\n",
    "@njit\n",
    "def sum_odds2(nm):\n",
    "    s = 0\n",
    "    for k1, k2 in nm.keys():\n",
    "        if k2 % 2 == 1:\n",
    "            s += nm.get2(k1, k2)\n",
    "    return s"
   ]
  },
  {
   "cell_type": "code",
   "execution_count": null,
   "metadata": {
    "collapsed": false
   },
   "outputs": [],
   "source": [
    "%time sum([v for (k1, k2), v in drand.items() if k2 % 2 == 1])"
   ]
  },
  {
   "cell_type": "code",
   "execution_count": null,
   "metadata": {
    "collapsed": true
   },
   "outputs": [],
   "source": [
    "nr.seed(0)\n",
    "rand_keys_ = nr.randint(len(nm.ks), size=1000)\n",
    "rand_keys = nm.ks[rand_keys_]"
   ]
  },
  {
   "cell_type": "code",
   "execution_count": null,
   "metadata": {
    "collapsed": false
   },
   "outputs": [],
   "source": [
    "@njit\n",
    "def sum_r(nm, rks):\n",
    "    s = 0\n",
    "    for i in range(len(rks)):\n",
    "        k1, k2 = rks[i]\n",
    "        s += nm.get(k1, k2)\n",
    "    return s\n",
    "\n",
    "@njit\n",
    "def sum_r2(nm, rks):\n",
    "    s = 0\n",
    "    for i in range(len(rks)):\n",
    "        k1, k2 = rks[i]\n",
    "        s += nm.get2(k1, k2)\n",
    "    return s"
   ]
  },
  {
   "cell_type": "code",
   "execution_count": null,
   "metadata": {
    "collapsed": false
   },
   "outputs": [],
   "source": []
  },
  {
   "cell_type": "code",
   "execution_count": null,
   "metadata": {
    "collapsed": true
   },
   "outputs": [],
   "source": [
    "del sum_odds_r, sum_odds_r2"
   ]
  },
  {
   "cell_type": "code",
   "execution_count": null,
   "metadata": {
    "collapsed": false
   },
   "outputs": [],
   "source": [
    "sum([drand[(k1, k2)] for (k1, k2) in rand_keys])"
   ]
  },
  {
   "cell_type": "code",
   "execution_count": null,
   "metadata": {
    "collapsed": false
   },
   "outputs": [],
   "source": [
    "%time sum([drand[(k1, k2)] for (k1, k2) in rand_keys])"
   ]
  },
  {
   "cell_type": "code",
   "execution_count": null,
   "metadata": {
    "collapsed": false
   },
   "outputs": [],
   "source": [
    "sum_r2(nm, rand_keys)"
   ]
  },
  {
   "cell_type": "code",
   "execution_count": null,
   "metadata": {
    "collapsed": false
   },
   "outputs": [],
   "source": [
    "%time sum_r(nm, rand_keys)\n",
    "%time sum_r2(nm, rand_keys)"
   ]
  },
  {
   "cell_type": "code",
   "execution_count": null,
   "metadata": {
    "collapsed": false
   },
   "outputs": [],
   "source": [
    "%timeit sum_r(nm, rand_keys)\n",
    "%timeit sum_r2(nm, rand_keys)\n",
    "# %time sum_odds(nm, rand_keys)"
   ]
  }
 ],
 "metadata": {
  "kernelspec": {
   "display_name": "Python 3",
   "language": "python",
   "name": "python3"
  },
  "language_info": {
   "codemirror_mode": {
    "name": "ipython",
    "version": 3
   },
   "file_extension": ".py",
   "mimetype": "text/x-python",
   "name": "python",
   "nbconvert_exporter": "python",
   "pygments_lexer": "ipython3",
   "version": "3.5.2"
  }
 },
 "nbformat": 4,
 "nbformat_minor": 0
}
