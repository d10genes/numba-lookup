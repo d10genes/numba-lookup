{
 "cells": [
  {
   "cell_type": "markdown",
   "metadata": {},
   "source": [
    "- limitations\n",
    "    - can't construct with numba"
   ]
  },
  {
   "cell_type": "code",
   "execution_count": null,
   "metadata": {
    "collapsed": true
   },
   "outputs": [],
   "source": [
    "import matplotlib.pyplot as plt\n",
    "%matplotlib inline"
   ]
  },
  {
   "cell_type": "code",
   "execution_count": null,
   "metadata": {
    "collapsed": false
   },
   "outputs": [],
   "source": [
    "from project_imports import *"
   ]
  },
  {
   "cell_type": "code",
   "execution_count": null,
   "metadata": {
    "collapsed": false
   },
   "outputs": [],
   "source": [
    "%%javascript\n",
    "var csc = IPython.keyboard_manager.command_shortcuts\n",
    "csc.add_shortcut('Ctrl-k','ipython.move-selected-cell-up')\n",
    "csc.add_shortcut('Ctrl-j','ipython.move-selected-cell-down')\n",
    "csc.add_shortcut('Shift-m','ipython.merge-selected-cell-with-cell-after')"
   ]
  },
  {
   "cell_type": "markdown",
   "metadata": {},
   "source": [
    "# Imports"
   ]
  },
  {
   "cell_type": "code",
   "execution_count": null,
   "metadata": {
    "collapsed": true
   },
   "outputs": [],
   "source": [
    "import scipy as sp\n",
    "from pandas.compat import lmap, lfilter, lrange, lzip\n",
    "import numba_lookup as nl; reload(nl); from numba_lookup import *"
   ]
  },
  {
   "cell_type": "code",
   "execution_count": null,
   "metadata": {
    "collapsed": true
   },
   "outputs": [],
   "source": [
    "import tests.test_lookup as ll; reload(ll); from tests.test_lookup import *"
   ]
  },
  {
   "cell_type": "markdown",
   "metadata": {},
   "source": [
    "# Benchmarks: constant vs linear vs log"
   ]
  },
  {
   "cell_type": "code",
   "execution_count": null,
   "metadata": {
    "collapsed": false
   },
   "outputs": [],
   "source": [
    "import timeit\n",
    "\n",
    "def run_inputs(f=None, genargs=None, inputs=[], n_repeat=10):\n",
    "    ts = OrderedDict()\n",
    "    for n in inputs:\n",
    "        test_func = lambda: f(*genargs(n))\n",
    "        ts[n] = timeit.timeit(test_func, number=n_repeat) / n_repeat\n",
    "    s = Series(ts, name='Time')\n",
    "    s.index.name = 'N'\n",
    "    return s\n",
    "\n",
    "def s2df(s, **kw):\n",
    "    \"Series to DataFrame\"\n",
    "    df = s.reset_index(drop=0)\n",
    "    for k, v in kw.items():\n",
    "        df[k] = v\n",
    "    return df"
   ]
  },
  {
   "cell_type": "markdown",
   "metadata": {},
   "source": [
    "## Constant time query"
   ]
  },
  {
   "cell_type": "code",
   "execution_count": null,
   "metadata": {
    "collapsed": false
   },
   "outputs": [],
   "source": [
    "s = Series([1,2], name='a')\n",
    "s = s.reset_index(drop=0)\n",
    "s"
   ]
  },
  {
   "cell_type": "code",
   "execution_count": null,
   "metadata": {
    "collapsed": true
   },
   "outputs": [],
   "source": [
    "def mk_rnd_dct_arr(dictsize, nkeys=1000):\n",
    "    \"Generate random int dict and random subset of keys\"\n",
    "    rx = nr.randint(0, int(1e9), size=(dictsize, 2))\n",
    "    return dict(rx), nr.choice(rx[:, 0], size=nkeys)\n",
    "\n",
    "def dct_benchmark(dct, ks):\n",
    "    \"Sum all of the values in dict for given keys\"\n",
    "    return sum(dct[k] for k in ks)"
   ]
  },
  {
   "cell_type": "code",
   "execution_count": null,
   "metadata": {
    "collapsed": false
   },
   "outputs": [],
   "source": [
    "ts_const = run_inputs(f=dct_benchmark, genargs=mk_rnd_dct_arr, inputs=[1, 10, 100, 1000, 10000, ]) \n",
    "ts_const"
   ]
  },
  {
   "cell_type": "markdown",
   "metadata": {},
   "source": [
    "## Linear lookup"
   ]
  },
  {
   "cell_type": "code",
   "execution_count": null,
   "metadata": {
    "collapsed": true
   },
   "outputs": [],
   "source": [
    "def dct2linear_lookup(dct):\n",
    "    return np.array(list(dct.items()))\n",
    "\n",
    "def mk_rnd_linear_dct(n, nkeys=1000):\n",
    "    d, a = mk_rnd_dct_arr(n, nkeys=nkeys)\n",
    "    return dct2linear_lookup(d), a\n",
    "\n",
    "def linear_lookup_get(arr, kquery):\n",
    "    for k, v in arr:\n",
    "        if k == kquery:\n",
    "            return v\n",
    "    raise KeyError(kquery)\n",
    "    \n",
    "def linear_benchmark(dct, ks):\n",
    "    return sum(linear_lookup_get(dct, k) for k in ks)"
   ]
  },
  {
   "cell_type": "code",
   "execution_count": null,
   "metadata": {
    "collapsed": false
   },
   "outputs": [],
   "source": [
    "d, a = mk_rnd_dct_arr(100, 1000)\n",
    "dlin = dct2linear_lookup(d)\n",
    "\n",
    "assert dct_benchmark(d, a) == linear_benchmark(dlin, a)"
   ]
  },
  {
   "cell_type": "code",
   "execution_count": null,
   "metadata": {
    "collapsed": false
   },
   "outputs": [],
   "source": [
    "ts_lin = run_inputs(f=linear_benchmark, genargs=mk_rnd_linear_dct, inputs=[1, 10, 100], n_repeat=10) \n",
    "ts_lin"
   ]
  },
  {
   "cell_type": "markdown",
   "metadata": {},
   "source": [
    "### Numba speedup"
   ]
  },
  {
   "cell_type": "code",
   "execution_count": null,
   "metadata": {
    "collapsed": true
   },
   "outputs": [],
   "source": [
    "@njit\n",
    "def linear_lookup_get_nb(arr, kquery):\n",
    "    for i in range(len(arr)):\n",
    "        if arr[i, 0] == kquery:\n",
    "            return arr[i, 1]\n",
    "    print(kquery)\n",
    "    raise KeyError\n",
    "\n",
    "@njit\n",
    "def linear_benchmark_nb(dct, ks):\n",
    "    s = 0\n",
    "    for k in ks:\n",
    "        s += linear_lookup_get_nb(dct, k)\n",
    "    return s"
   ]
  },
  {
   "cell_type": "code",
   "execution_count": null,
   "metadata": {
    "collapsed": false
   },
   "outputs": [],
   "source": [
    "assert linear_benchmark(dlin, a) == linear_benchmark_nb(dlin, a)"
   ]
  },
  {
   "cell_type": "code",
   "execution_count": null,
   "metadata": {
    "collapsed": false
   },
   "outputs": [],
   "source": [
    "ts_lin_nb = run_inputs(f=linear_benchmark_nb, genargs=mk_rnd_linear_dct, inputs=10 ** np.arange(6), n_repeat=10) \n",
    "ts_lin_nb"
   ]
  },
  {
   "cell_type": "code",
   "execution_count": null,
   "metadata": {
    "collapsed": true
   },
   "outputs": [],
   "source": []
  },
  {
   "cell_type": "code",
   "execution_count": null,
   "metadata": {
    "collapsed": true
   },
   "outputs": [],
   "source": [
    "import seaborn as sns"
   ]
  },
  {
   "cell_type": "code",
   "execution_count": null,
   "metadata": {
    "collapsed": false
   },
   "outputs": [],
   "source": [
    "times"
   ]
  },
  {
   "cell_type": "code",
   "execution_count": null,
   "metadata": {
    "collapsed": false
   },
   "outputs": [],
   "source": [
    "times = pd.concat([\n",
    "    s2df(ts_const, Complexity='Constant'),\n",
    "    s2df(ts_lin, Complexity='Linear'),\n",
    "    s2df(ts_lin_nb, Complexity='Linear numba'),\n",
    "])\n",
    "\n",
    "def plot(x, y, **_):\n",
    "    return plt.plot(x, y, '.:')\n",
    "\n",
    "g = sns.FacetGrid(times, col='Complexity', sharex=False)\n",
    "g.map(plot, 'N', 'Time')"
   ]
  },
  {
   "cell_type": "markdown",
   "metadata": {},
   "source": [
    "## Sorted array"
   ]
  },
  {
   "cell_type": "markdown",
   "metadata": {},
   "source": [
    "N, M = 12000, 1000\n",
    "m = sp.sparse.random(N, M, density=.05, format='csc', random_state=1)"
   ]
  },
  {
   "cell_type": "code",
   "execution_count": null,
   "metadata": {
    "collapsed": false
   },
   "outputs": [],
   "source": [
    "N, M = 12000, 1000\n",
    "m = mk_m(n=N, m=M, random_state=1)\n",
    "drand = coo_todict(m)\n",
    "ks, vs = nl.tup_dct2arr(drand)"
   ]
  },
  {
   "cell_type": "code",
   "execution_count": null,
   "metadata": {
    "collapsed": false
   },
   "outputs": [],
   "source": [
    "ix_table = get_index(ks)"
   ]
  },
  {
   "cell_type": "markdown",
   "metadata": {},
   "source": [
    "k1, k2 = 0, 228\n",
    "sorted_arr_lookup_ix(ks, vs, ix_table, k1, k2)"
   ]
  },
  {
   "cell_type": "code",
   "execution_count": null,
   "metadata": {
    "collapsed": false
   },
   "outputs": [],
   "source": [
    "nm = nmap(drand)"
   ]
  },
  {
   "cell_type": "code",
   "execution_count": null,
   "metadata": {
    "collapsed": false
   },
   "outputs": [],
   "source": [
    "try:\n",
    "    sum_odds_r(nm, rand_keys)\n",
    "except Exception as e:\n",
    "    print(e)\n",
    "    "
   ]
  },
  {
   "cell_type": "code",
   "execution_count": null,
   "metadata": {
    "collapsed": false
   },
   "outputs": [],
   "source": [
    "sum([nm.get(k1, k2) for k1, k2 in keys(ks) if k2 % 2 == 1])"
   ]
  },
  {
   "cell_type": "code",
   "execution_count": null,
   "metadata": {
    "collapsed": false
   },
   "outputs": [],
   "source": [
    "lmap(type, list(drand.keys())[0])"
   ]
  },
  {
   "cell_type": "code",
   "execution_count": null,
   "metadata": {
    "collapsed": false
   },
   "outputs": [],
   "source": [
    "type(drand[(3149, 598)])"
   ]
  },
  {
   "cell_type": "code",
   "execution_count": null,
   "metadata": {
    "collapsed": false
   },
   "outputs": [],
   "source": [
    "list(it.islice(keys(ks), 5))\n",
    "list(it.islice(values(vs), 5))"
   ]
  },
  {
   "cell_type": "code",
   "execution_count": null,
   "metadata": {
    "collapsed": false
   },
   "outputs": [],
   "source": []
  },
  {
   "cell_type": "code",
   "execution_count": null,
   "metadata": {
    "collapsed": true
   },
   "outputs": [],
   "source": [
    "@njit\n",
    "def sum_odds(nm):\n",
    "    s = 0\n",
    "    for k1, k2 in nm.keys():\n",
    "        if k2 % 2 == 1:\n",
    "            s += nm.get(k1, k2)\n",
    "    return s\n",
    "\n",
    "\n",
    "@njit\n",
    "def sum_odds2(nm):\n",
    "    s = 0\n",
    "    for k1, k2 in nm.keys():\n",
    "        if k2 % 2 == 1:\n",
    "            s += nm.get2(k1, k2)\n",
    "    return s"
   ]
  },
  {
   "cell_type": "code",
   "execution_count": null,
   "metadata": {
    "collapsed": false
   },
   "outputs": [],
   "source": [
    "%time sum([v for (k1, k2), v in drand.items() if k2 % 2 == 1])"
   ]
  },
  {
   "cell_type": "code",
   "execution_count": null,
   "metadata": {
    "collapsed": true
   },
   "outputs": [],
   "source": [
    "nr.seed(0)\n",
    "rand_keys_ = nr.randint(len(nm.ks), size=1000)\n",
    "rand_keys = nm.ks[rand_keys_]"
   ]
  },
  {
   "cell_type": "code",
   "execution_count": null,
   "metadata": {
    "collapsed": false
   },
   "outputs": [],
   "source": [
    "@njit\n",
    "def sum_r(nm, rks):\n",
    "    s = 0\n",
    "    for i in range(len(rks)):\n",
    "        k1, k2 = rks[i]\n",
    "        s += nm.get(k1, k2)\n",
    "    return s\n",
    "\n",
    "@njit\n",
    "def sum_r2(nm, rks):\n",
    "    s = 0\n",
    "    for i in range(len(rks)):\n",
    "        k1, k2 = rks[i]\n",
    "        s += nm.get2(k1, k2)\n",
    "    return s"
   ]
  },
  {
   "cell_type": "code",
   "execution_count": null,
   "metadata": {
    "collapsed": false
   },
   "outputs": [],
   "source": []
  },
  {
   "cell_type": "code",
   "execution_count": null,
   "metadata": {
    "collapsed": true
   },
   "outputs": [],
   "source": [
    "del sum_odds_r, sum_odds_r2"
   ]
  },
  {
   "cell_type": "code",
   "execution_count": null,
   "metadata": {
    "collapsed": false
   },
   "outputs": [],
   "source": [
    "sum([drand[(k1, k2)] for (k1, k2) in rand_keys])"
   ]
  },
  {
   "cell_type": "code",
   "execution_count": null,
   "metadata": {
    "collapsed": false
   },
   "outputs": [],
   "source": [
    "%time sum([drand[(k1, k2)] for (k1, k2) in rand_keys])"
   ]
  },
  {
   "cell_type": "code",
   "execution_count": null,
   "metadata": {
    "collapsed": false
   },
   "outputs": [],
   "source": [
    "sum_r2(nm, rand_keys)"
   ]
  },
  {
   "cell_type": "code",
   "execution_count": null,
   "metadata": {
    "collapsed": false
   },
   "outputs": [],
   "source": [
    "%time sum_r(nm, rand_keys)\n",
    "%time sum_r2(nm, rand_keys)"
   ]
  },
  {
   "cell_type": "code",
   "execution_count": null,
   "metadata": {
    "collapsed": false
   },
   "outputs": [],
   "source": [
    "%timeit sum_r(nm, rand_keys)\n",
    "%timeit sum_r2(nm, rand_keys)\n",
    "# %time sum_odds(nm, rand_keys)"
   ]
  }
 ],
 "metadata": {
  "kernelspec": {
   "display_name": "Python 3",
   "language": "python",
   "name": "python3"
  },
  "language_info": {
   "codemirror_mode": {
    "name": "ipython",
    "version": 3
   },
   "file_extension": ".py",
   "mimetype": "text/x-python",
   "name": "python",
   "nbconvert_exporter": "python",
   "pygments_lexer": "ipython3",
   "version": "3.5.2"
  }
 },
 "nbformat": 4,
 "nbformat_minor": 0
}
