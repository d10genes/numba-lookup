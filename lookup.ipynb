{
 "cells": [
  {
   "cell_type": "markdown",
   "metadata": {},
   "source": [
    "I recently had occasion to use dictionary or sparse matrix to keep track of co-occurrence counts, neither of which I could use with Numba. This isn't the first time I've seen this limitation, so I thought it would be worth my time to look for the best solution I could conjure with the minimal amount of energy. \n",
    "\n",
    "While python's arrays and dicts come with the convenience of constant time lookups, I couldn't think of a straightforward strategy to use these in Numba. "
   ]
  },
  {
   "cell_type": "code",
   "execution_count": null,
   "metadata": {
    "collapsed": false
   },
   "outputs": [],
   "source": [
    "import matplotlib.pyplot as plt\n",
    "%matplotlib inline\n",
    "%load_ext autoreload\n",
    "\n",
    "from project_imports import *"
   ]
  },
  {
   "cell_type": "code",
   "execution_count": null,
   "metadata": {
    "collapsed": false
   },
   "outputs": [],
   "source": [
    "import scipy as sp\n",
    "import seaborn as sns\n",
    "from numba import njit\n",
    "\n",
    "from pandas.compat import lmap, lfilter, lrange, lzip\n",
    "import numba_lookup as nl\n",
    "\n",
    "from tests.test_lookup import *"
   ]
  },
  {
   "cell_type": "code",
   "execution_count": null,
   "metadata": {
    "collapsed": false
   },
   "outputs": [],
   "source": [
    "%%javascript\n",
    "Jupyter.keyboard_manager.command_shortcuts.add_shortcuts({\n",
    "'Ctrl-k': 'jupyter-notebook.move-selected-cell-up',\n",
    "'Ctrl-j': 'jupyter-notebook.move-selected-cell-down',\n",
    "'Shift-m': 'jupyter-notebook.merge-selected-cell-with-cell-after'})"
   ]
  },
  {
   "cell_type": "markdown",
   "metadata": {},
   "source": [
    "# Benchmarks: constant vs linear vs log\n",
    "\n",
    "Here is some code that benchmarks different lookup strategies to compare how much slower they get as the number of elements in the lookup structure increases. The function `run_benchmark` takes a function `f` that does a lookup, and function `genargs(n)` that creates the lookup data structure with `n` elements. Since we want to see how the size affects the lookup speed, different input sizes can be passed through the `inputs` arg, and the function will return a Series with the average lookup time for each size."
   ]
  },
  {
   "cell_type": "code",
   "execution_count": null,
   "metadata": {
    "collapsed": false
   },
   "outputs": [],
   "source": [
    "import timeit\n",
    "\n",
    "def run_benchmark(f=None, genargs=None, inputs=[], n_repeat=10):\n",
    "    ts = OrderedDict()\n",
    "    for n in inputs:\n",
    "\n",
    "        def setup_arg():\n",
    "            \"\"\"Gotta do weird stuff for `timeit` to see things\n",
    "            correctly in its namespace.\"\"\"\n",
    "            setup_arg.arg = genargs(n)\n",
    "            \n",
    "        test_func = lambda: f(*setup_arg.arg)\n",
    "        ts[n] = timeit.timeit(test_func, number=n_repeat, setup=setup_arg) / n_repeat\n",
    "        \n",
    "#         test_func = lambda: f(*genargs(n))\n",
    "#         ts[n] = timeit.timeit(test_func, number=n_repeat) / n_repeat\n",
    "    s = Series(ts, name='Time')\n",
    "    s.index.name = 'N'\n",
    "    return s\n",
    "\n",
    "def s2df(s, **kw):\n",
    "    \"Series to DataFrame\"\n",
    "    df = s.reset_index(drop=0)\n",
    "    for k, v in kw.items():\n",
    "        df[k] = v\n",
    "    return df"
   ]
  },
  {
   "cell_type": "markdown",
   "metadata": {},
   "source": [
    "## Constant time query\n",
    "\n",
    "To illustrate the ideal performance I'd like, we'll first benchmark constant time lookups. The functions here will randomly generate dictionaries of size `n` with 2-tuple int keys and int values (i.e., `{(2, 3): 4}`), in the form that a co-occurrence lookup would have. It will then generate a random subset of keys, which the benchmark function `dct_benchmark` will use to look up corresponding values and sum. "
   ]
  },
  {
   "cell_type": "code",
   "execution_count": null,
   "metadata": {
    "collapsed": true
   },
   "outputs": [],
   "source": [
    "def mk_rnd_dct_arr2d(dictsize, nkeys=1000):\n",
    "    \"Generate random int dict and random subset of keys\"\n",
    "    rx = nr.randint(0, int(1e9), size=(dictsize, 3))\n",
    "    d = {(k1, k2): v for k1, k2, v in rx}\n",
    "    ks = [(rx[i, 0], rx[i, 1]) for i in nr.choice(np.arange(dictsize), size=nkeys)]\n",
    "    return d, ks\n",
    "\n",
    "def dct_benchmark(dct, ks):\n",
    "    \"Sum all of the values in dict for given keys\"\n",
    "    return sum(dct.get(k) for k in ks)"
   ]
  },
  {
   "cell_type": "code",
   "execution_count": null,
   "metadata": {
    "collapsed": false
   },
   "outputs": [],
   "source": [
    "ts_const = run_benchmark(f=dct_benchmark, genargs=mk_rnd_dct_arr2d, inputs=[1, 10, 100, 1000, 10000, 100000]) \n",
    "ts_const"
   ]
  },
  {
   "cell_type": "markdown",
   "metadata": {},
   "source": [
    "Since we've left a computer science textbook and entered a computer, there will be some variation. But the general trend here is that, even when the size of the dict increases 10x, this does not have a 10x increase in the lookup time (as a linear time lookup would), but rather remains about the same. "
   ]
  },
  {
   "cell_type": "markdown",
   "metadata": {},
   "source": [
    "## Linear lookup"
   ]
  },
  {
   "cell_type": "markdown",
   "metadata": {
    "collapsed": true
   },
   "source": [
    "As nice as python's built-in hash tables are, they haven't been ported to numba yet, so we can't really take advantage of them in large for-loops.\n",
    "\n",
    "Though it took me longer than I'd be comfortable admitting, there's a simple solution to get around dict usage that can use arrays. Arranging the 2 keys and 1 value as 3 columns in an array in this form:"
   ]
  },
  {
   "cell_type": "code",
   "execution_count": null,
   "metadata": {
    "collapsed": false
   },
   "outputs": [],
   "source": [
    "DataFrame([[3, 4, 1], [2, 3, 4]], columns=['Key 1', 'Key 2', 'Value'])"
   ]
  },
  {
   "cell_type": "markdown",
   "metadata": {},
   "source": [
    "we can look up the co-occurrence count of indices `2` and `3`, for example, by scanning through the first and second columns until we see the values 2 and 3, and then return the 3rd entry in that row (in this case, `4`)."
   ]
  },
  {
   "cell_type": "code",
   "execution_count": null,
   "metadata": {
    "collapsed": true
   },
   "outputs": [],
   "source": [
    "class DWrapper:\n",
    "    \"\"\"Wrap an array and lookup function to use\n",
    "    same api as a dict.\"\"\"\n",
    "    def __init__(self, dct, getter=None):\n",
    "        self.dct = dct\n",
    "        self.getter = getter\n",
    "        \n",
    "    def get(self, k):\n",
    "        return self.getter(self.dct, k)"
   ]
  },
  {
   "cell_type": "code",
   "execution_count": null,
   "metadata": {
    "collapsed": false
   },
   "outputs": [],
   "source": [
    "def dct2linear_lookup2d(dct: dict, getter=None):\n",
    "    \"Convert dict to linear array lookup\"\n",
    "    lookup = np.array([(k1, k2, v) for (k1, k2), v in dct.items()])\n",
    "    return DWrapper(lookup, getter=getter)\n",
    "\n",
    "def mk_rnd_linear_dct(n, nkeys=1000, getter=None):\n",
    "    d, a = mk_rnd_dct_arr2d(n, nkeys=nkeys)\n",
    "    return dct2linear_lookup2d(d, getter=getter), a\n",
    "\n",
    "def linear_lookup_get2d(arr, kquery):\n",
    "    for k1, k2, v in arr:\n",
    "        if (k1, k2) == kquery:\n",
    "            return v\n",
    "    raise KeyError(kquery)\n",
    "    \n",
    "# def linear_benchmark(dct, ks):\n",
    "#     return sum(linear_lookup_get2d(dct, k) for k in ks)"
   ]
  },
  {
   "cell_type": "code",
   "execution_count": null,
   "metadata": {
    "collapsed": false
   },
   "outputs": [],
   "source": [
    "# Check equiv\n",
    "d, a = mk_rnd_dct_arr2d(100, 1000)\n",
    "dlin = dct2linear_lookup2d(d, getter=linear_lookup_get2d)\n",
    "\n",
    "# assert dct_benchmark(d, a) == linear_benchmark(dlin, a)\n",
    "assert dct_benchmark(d, a) == dct_benchmark(dlin, a)"
   ]
  },
  {
   "cell_type": "code",
   "execution_count": null,
   "metadata": {
    "collapsed": false
   },
   "outputs": [],
   "source": [
    "ts_lin = run_benchmark(f=dct_benchmark, genargs=partial(mk_rnd_linear_dct, getter=linear_lookup_get2d),\n",
    "                       inputs=[1, 10, 100], n_repeat=10) \n",
    "ts_lin"
   ]
  },
  {
   "cell_type": "markdown",
   "metadata": {},
   "source": [
    "The times here show that as the size of the array increases by an order of magnitude, the time it takes to look up a single element also increases by (very roughly) an order of magnitude. While dicts are relatively unscathed by bigger sizes, a linear speed lookup like the array above will make lookups impossibly slow, particularly with a long loop."
   ]
  },
  {
   "cell_type": "markdown",
   "metadata": {},
   "source": [
    "### Numba speedup"
   ]
  },
  {
   "cell_type": "markdown",
   "metadata": {
    "collapsed": true
   },
   "source": [
    "To show how devastating linear complexity is for large N, here is a similar lookup array that uses numba to speed things up. "
   ]
  },
  {
   "cell_type": "code",
   "execution_count": null,
   "metadata": {
    "collapsed": false
   },
   "outputs": [],
   "source": [
    "@njit\n",
    "def linear_lookup_get_nb2d(arr, kquery):\n",
    "    for i in range(len(arr)):\n",
    "        if (arr[i, 0], arr[i, 1]) == kquery:\n",
    "            return arr[i, 2]\n",
    "    print(kquery)\n",
    "    raise KeyError"
   ]
  },
  {
   "cell_type": "code",
   "execution_count": null,
   "metadata": {
    "collapsed": false
   },
   "outputs": [],
   "source": [
    "# Check equiv\n",
    "dlin_nb = dct2linear_lookup2d(d, getter=linear_lookup_get_nb2d)\n",
    "\n",
    "assert dct_benchmark(dlin, a) == dct_benchmark(dlin_nb, a)\n",
    "# assert linear_benchmark(dlin, a) == linear_benchmark_nb(dlin, a)"
   ]
  },
  {
   "cell_type": "code",
   "execution_count": null,
   "metadata": {
    "collapsed": false
   },
   "outputs": [],
   "source": [
    "_gen_nb = partial(mk_rnd_linear_dct, getter=linear_lookup_get_nb2d)\n",
    "ts_lin_nb = run_benchmark(f=dct_benchmark, genargs=_gen_nb,\n",
    "                          inputs=10 ** np.arange(6), n_repeat=10)\n",
    "ts_lin_nb"
   ]
  },
  {
   "cell_type": "markdown",
   "metadata": {
    "collapsed": false
   },
   "source": [
    "While the time it takes to scan through an array is about an order of magnitude slower than the time it takes in pure python, you see the same explosion in time as the size of the array increases. Numba buys you about an order of magnitude in time with a linear lookup before it also becomes unusable for large loops.\n",
    "\n",
    "The charts below show the times in both log and linear scale. The linear scale is probably better here, and shows the constant uptick in time it takes to retrieve from the linear lookups, but with a lower slope for the lookups done in numba functions. "
   ]
  },
  {
   "cell_type": "code",
   "execution_count": null,
   "metadata": {
    "collapsed": true
   },
   "outputs": [],
   "source": [
    "# Tabulate times for easy plotting\n",
    "def tab_time_scales(xs):\n",
    "    times = pd.concat(xs)\n",
    "    return pd.concat([\n",
    "        s2df(times.set_index('N'), Scale='Linear'),\n",
    "        s2df(times.set_index('N'), Scale='Log'),\n",
    "    ])\n",
    "    \n",
    "def plot(x, y, scales, **kw):\n",
    "    scale, *_ = scales\n",
    "    p = plt.plot(x, y, '.:')\n",
    "    if scale == 'Log':\n",
    "        plt.xscale('log')\n",
    "    else:\n",
    "        plt.xticks(rotation=75)\n",
    "    return p\n",
    "\n",
    "times_scales = tab_time_scales([\n",
    "    s2df(ts_const, Complexity='Constant'),\n",
    "    s2df(ts_lin, Complexity='Linear'),\n",
    "    s2df(ts_lin_nb, Complexity='Linear numba'),\n",
    "])"
   ]
  },
  {
   "cell_type": "code",
   "execution_count": null,
   "metadata": {
    "collapsed": false
   },
   "outputs": [],
   "source": [
    "g = sns.FacetGrid(times_scales, col='Complexity', row='Scale', sharex=False)\n",
    "g.map(plot, 'N', 'Time', 'Scale');"
   ]
  },
  {
   "cell_type": "markdown",
   "metadata": {
    "collapsed": false
   },
   "source": [
    "\n",
    "times = pd.concat([\n",
    "    s2df(ts_const, Complexity='Constant'),\n",
    "    s2df(ts_lin, Complexity='Linear'),\n",
    "    s2df(ts_lin_nb, Complexity='Linear numba'),\n",
    "])\n",
    "\n",
    "\n",
    "times_scales = pd.concat([\n",
    "    s2df(times.set_index('N'), Scale='Linear'),\n",
    "    s2df(times.set_index('N'), Scale='Log'),\n",
    "])\n",
    "\n",
    "times_scales = pd.concat([\n",
    "    s2df(times.set_index('N'), Scale='Linear'),\n",
    "    s2df(times.set_index('N'), Scale='Log'),\n",
    "])"
   ]
  },
  {
   "cell_type": "markdown",
   "metadata": {},
   "source": [
    "## Logarithmic time lookup\n",
    "\n",
    "The intuition for log-speed lookups can be understood when searching for a word in the dictionary. (The old fashioned kind, that is. Back when you had to turn pages made of paper.) We don't have the page number for each word memorized, so we can't instantly flip to a word's page (which would be a constant time operation, no matter how large the dictionary is).\n",
    "\n",
    "\n",
    "But we also don't use dictionaries where the words are randomly shuffled, requiring us to scan through from the beginning, page by page, word by word until we find our target entry (aka linear lookup complexity).\n",
    "\n",
    "The words are sorted, so at worst case we can turn to the middle of the dictionary, see that our word comes in the second half, and repeat this search in the second half of the book, eliminating half of the remaining pages at each step. If a 1000 page dictionary is doubled to 2000 pages, the lookup won't take twice as long (linear increase), it'll just be an extra step (log increase). This illustrates a log time lookup, and only requires us to sort our array and use a recursive search strategy. \n",
    "\n",
    "### Benchmark Log lookup\n",
    "\n",
    "Here I'm importing a wrapper `nmap` from the `numba_lookup.py` file that's like `DWrapper` above. This essential difference is that this function sorts the array after it is converted from the input dict, and uses numpy's (and therefore numba's) `np.searchsorted` functionality to look up the keys in the first two columns."
   ]
  },
  {
   "cell_type": "code",
   "execution_count": null,
   "metadata": {
    "collapsed": true
   },
   "outputs": [],
   "source": [
    "from numba_lookup import nmap"
   ]
  },
  {
   "cell_type": "code",
   "execution_count": null,
   "metadata": {
    "collapsed": false
   },
   "outputs": [],
   "source": [
    "dlog = nmap(d)\n",
    "\n",
    "# Check equivalence\n",
    "assert dct_benchmark(d, a) == dct_benchmark(dlog, a)"
   ]
  },
  {
   "cell_type": "code",
   "execution_count": null,
   "metadata": {
    "collapsed": true
   },
   "outputs": [],
   "source": [
    "def mk_rnd_dct_arr2d_log(dictsize, nkeys=1000, warmup=None):\n",
    "    \"\"\"Generate random dict, select random keys, convert\n",
    "    dict to log lookup, and access the first element\n",
    "    to compile the numba method.\n",
    "    \"\"\"\n",
    "    d, a = mk_rnd_dct_arr2d(dictsize, nkeys=nkeys)\n",
    "    dlog = nmap(d)\n",
    "    dlog.get(dlog.keys()[0])  # warmup by accessing first key\n",
    "    if warmup is not None:\n",
    "        warmup(dlog, a[:2])\n",
    "    return dlog, a\n",
    "\n",
    "# def warmup_gen():\n",
    "#     return mk_rnd_dct_arr2d_log(2, nkeys=1)"
   ]
  },
  {
   "cell_type": "code",
   "execution_count": null,
   "metadata": {
    "collapsed": false
   },
   "outputs": [],
   "source": [
    "ts_log_nb = run_benchmark(f=dct_benchmark, genargs=mk_rnd_dct_arr2d_log,\n",
    "                          inputs=10 ** np.arange(1, 7), n_repeat=10)\n",
    "ts_log_nb"
   ]
  },
  {
   "cell_type": "markdown",
   "metadata": {},
   "source": [
    "In the benchmark we would expect that for each time the size's order of magnitude increases, the time it takes to retrieve an element will increase by a constant amount. This is (again, *very roughly*) what we see in the log scale plot:"
   ]
  },
  {
   "cell_type": "code",
   "execution_count": null,
   "metadata": {
    "collapsed": false
   },
   "outputs": [],
   "source": [
    "times_scales2 = tab_time_scales([\n",
    "    s2df(ts_const, Complexity='Constant'),\n",
    "    s2df(ts_lin, Complexity='Linear'),\n",
    "    s2df(ts_lin_nb, Complexity='Linear numba'),\n",
    "    s2df(ts_log_nb, Complexity='Log'),\n",
    "])\n",
    "\n",
    "ts_ = times_scales2.query(\"Complexity == ['Constant', 'Log', 'Log_loop']\")\n",
    "g = sns.FacetGrid(ts_, col='Complexity', row='Scale', sharex=False)\n",
    "g.map(plot, 'N', 'Time', 'Scale');"
   ]
  },
  {
   "cell_type": "markdown",
   "metadata": {},
   "source": [
    "## Use case"
   ]
  },
  {
   "cell_type": "markdown",
   "metadata": {},
   "source": [
    "Since logarithmic time lookups increase at a faster rate than constant time operations, justification is still needed for why I care so much about these numba lookup structures when the built-in dicts have better asymptotic complexity. To answer this, here are some benchmarks that are closer to my use case, in that the lookups are performed within a larger (and nested) loop, with a simple function applied in each loop. While the lookup was the core of the other benchmarks, it makes up a smaller fraction of each loop in this benchmark."
   ]
  },
  {
   "cell_type": "code",
   "execution_count": null,
   "metadata": {
    "collapsed": true
   },
   "outputs": [],
   "source": [
    "# Create dicts and check equivalence\n",
    "nr.seed(0)\n",
    "_dict, _ks = mk_rnd_dct_arr2d(10000)\n",
    "assert type(_dict) == dict\n",
    "\n",
    "\n",
    "_log_dict = nmap(_dict)\n",
    "\n",
    "for k in _ks:\n",
    "    assert _dict.get(k) == _log_dict.get(k)"
   ]
  },
  {
   "cell_type": "code",
   "execution_count": null,
   "metadata": {
    "collapsed": true
   },
   "outputs": [],
   "source": [
    "def gen_large_key_sample(dct, size=1000000):\n",
    "    ks4_ix = nr.choice(np.arange(len(dct)), size=size)\n",
    "    _ks_all = sorted(dct)\n",
    "    return [_ks_all[i] for i in ks4_ix]\n",
    "\n",
    "big_ks = gen_large_key_sample(_dict, size=1000000)"
   ]
  },
  {
   "cell_type": "code",
   "execution_count": null,
   "metadata": {
    "collapsed": false
   },
   "outputs": [],
   "source": [
    "f = lambda x: (x ** .3) // 4\n",
    "fnb = njit(f)\n",
    "\n",
    "def look_sum_mod(dct, ks):\n",
    "    return sum([f(dct.get(k))\n",
    "                for i in range(1, 25)\n",
    "                for k in ks\n",
    "                if (k[1] % i) % 2\n",
    "               ])\n",
    "\n",
    "def look_sum_loop_mod(dct, ks):\n",
    "    s = 0\n",
    "    for i in range(1, 25):\n",
    "        for k in ks:\n",
    "            if (k[1] % i) % 2:\n",
    "                s += fnb(dct.get(k))\n",
    "    return s\n",
    "\n",
    "look_sum_loop_mod_nb = njit(look_sum_loop_mod)\n",
    "look_sum_loop_mod_nb(_log_dict, _ks[:2]);"
   ]
  },
  {
   "cell_type": "code",
   "execution_count": null,
   "metadata": {
    "collapsed": false
   },
   "outputs": [],
   "source": [
    "%time res1 = look_sum_loop_mod_nb(_log_dict, big_ks)"
   ]
  },
  {
   "cell_type": "code",
   "execution_count": null,
   "metadata": {
    "collapsed": false
   },
   "outputs": [],
   "source": [
    "%time res2 = look_sum_mod(_dict, big_ks)"
   ]
  },
  {
   "cell_type": "code",
   "execution_count": null,
   "metadata": {
    "collapsed": false
   },
   "outputs": [],
   "source": [
    "%time res3 = look_sum_loop_mod(_dict, big_ks)"
   ]
  },
  {
   "cell_type": "code",
   "execution_count": null,
   "metadata": {
    "collapsed": true
   },
   "outputs": [],
   "source": [
    "assert res1 == res2 == res3"
   ]
  },
  {
   "cell_type": "markdown",
   "metadata": {},
   "source": [
    "Because of the low cost of each iteration in a numba loop, nested loops like this are where numba really shines. Additional factors such as the overhead of entering and exiting a loop and doing basic operations in native python is so high that as the number of iterations increases, the performance of a single lookup, even with better runtime complexity, matters less and less.\n",
    "\n",
    "Thus, with just some basic knowledge of algorithmic complexity, we get speedy lookups using already-implemented numba functions at a pretty low cost."
   ]
  }
 ],
 "metadata": {
  "kernelspec": {
   "display_name": "Python 3",
   "language": "python",
   "name": "python3"
  },
  "language_info": {
   "codemirror_mode": {
    "name": "ipython",
    "version": 3
   },
   "file_extension": ".py",
   "mimetype": "text/x-python",
   "name": "python",
   "nbconvert_exporter": "python",
   "pygments_lexer": "ipython3",
   "version": "3.5.2"
  }
 },
 "nbformat": 4,
 "nbformat_minor": 0
}
